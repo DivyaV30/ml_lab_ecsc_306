{
 "cells": [
  {
   "cell_type": "code",
   "execution_count": 1,
   "metadata": {
    "collapsed": true
   },
   "outputs": [],
   "source": [
    "import tensorflow as tf\n"
   ]
  },
  {
   "cell_type": "code",
   "execution_count": 2,
   "metadata": {},
   "outputs": [
    {
     "ename": "NameError",
     "evalue": "name 'a1' is not defined",
     "output_type": "error",
     "traceback": [
      "\u001b[0;31m---------------------------------------------------------------------------\u001b[0m",
      "\u001b[0;31mNameError\u001b[0m                                 Traceback (most recent call last)",
      "\u001b[0;32m<ipython-input-2-cb8e357c3753>\u001b[0m in \u001b[0;36m<module>\u001b[0;34m()\u001b[0m\n\u001b[1;32m      1\u001b[0m \u001b[0;32mimport\u001b[0m \u001b[0mtensorflow\u001b[0m \u001b[0;32mas\u001b[0m \u001b[0mtf\u001b[0m\u001b[0;34m\u001b[0m\u001b[0m\n\u001b[0;32m----> 2\u001b[0;31m \u001b[0mv1\u001b[0m \u001b[0;34m=\u001b[0m \u001b[0mtf\u001b[0m\u001b[0;34m.\u001b[0m\u001b[0mlogical_and\u001b[0m\u001b[0;34m(\u001b[0m\u001b[0ma1\u001b[0m\u001b[0;34m,\u001b[0m \u001b[0mb1\u001b[0m\u001b[0;34m)\u001b[0m\u001b[0;34m\u001b[0m\u001b[0m\n\u001b[0m\u001b[1;32m      3\u001b[0m \u001b[0mv2\u001b[0m \u001b[0;34m=\u001b[0m \u001b[0mtf\u001b[0m\u001b[0;34m.\u001b[0m\u001b[0mlogical_and\u001b[0m\u001b[0;34m(\u001b[0m\u001b[0ma2\u001b[0m\u001b[0;34m,\u001b[0m \u001b[0mb2\u001b[0m\u001b[0;34m)\u001b[0m\u001b[0;34m\u001b[0m\u001b[0m\n",
      "\u001b[0;31mNameError\u001b[0m: name 'a1' is not defined"
     ]
    }
   ],
   "source": [
    "import tensorflow as tf\n",
    "v1 = tf.l(a1, b1)\n",
    "v2 = tf.logical_and(a2, b2)"
   ]
  },
  {
   "cell_type": "code",
   "execution_count": 5,
   "metadata": {},
   "outputs": [
    {
     "name": "stdout",
     "output_type": "stream",
     "text": [
      "Tensor(\"Mean:0\", shape=(), dtype=int32)\n"
     ]
    }
   ],
   "source": [
    "import tensorflow as tf\n",
    "a=tf.constant([1,2,3])\n",
    "b=tf.constant([1,2,3])\n",
    "c=tf.reduce_mean(a)\n",
    "\n",
    "print(c)"
   ]
  },
  {
   "cell_type": "code",
   "execution_count": 6,
   "metadata": {},
   "outputs": [
    {
     "name": "stdout",
     "output_type": "stream",
     "text": [
      "2.5\n",
      "6.5\n",
      "[[-1.5 -0.5  0.5  1.5]]\n",
      "[[-1.5 -0.5  0.5  1.5]]\n",
      "[[ 2.25  0.25  0.25  2.25]]\n",
      "5.0\n",
      "[[ 2.25  0.25  0.25  2.25]]\n",
      "5.0\n"
     ]
    }
   ],
   "source": [
    "\n",
    "\n",
    "import tensorflow as tf\n",
    "import tensorflow as tf\n",
    "x=tf.constant([1.0,2.0,3.0,4.0],shape=[1,4],name='x')\n",
    "y=tf.constant([5.0,6.0,7.0,8.0],shape=[1,4],name='y')\n",
    "with tf.name_scope(\"mean\"):\n",
    "    with tf.name_scope(\"mean_x_y\"):\n",
    "        x1=tf.reduce_mean(x)\n",
    "        y1=tf.reduce_mean(y)\n",
    "        sess=tf.Session()\n",
    "    print(sess.run(x1))\n",
    "    print(sess.run(y1))\n",
    "with tf.name_scope(\"variance\"):\n",
    "    with tf.name_scope(\"scope_sub1\"):\n",
    "        a=tf.subtract(x,x1)\n",
    "        sess1=tf.Session()\n",
    "    print(sess1.run(a))\n",
    "    with tf.name_scope(\"scope_sub2\"):\n",
    "        b=tf.subtract(y,y1)\n",
    "        sess2=tf.Session()\n",
    "    print(sess2.run(b))\n",
    "    with tf.name_scope(\"scope_square\"):\n",
    "        a1=tf.multiply(a,a)\n",
    "        sess3=tf.Session()\n",
    "    print(sess3.run(a1))\n",
    "    with tf.name_scope(\"scope_summation\"):\n",
    "        var=tf.reduce_sum(a1)\n",
    "        sess4=tf.Session()\n",
    "    print(sess4.run(var))\n",
    "with tf.name_scope(\"covariance\"):\n",
    "    with tf.name_scope(\"multiplication\"):\n",
    "        mul1=tf.multiply(a,b)\n",
    "        sess5=tf.Session()\n",
    "    print(sess5.run(mul1))\n",
    "    with tf.name_scope(\"scope_summation2\"):\n",
    "        covar=tf.reduce_sum(mul1)\n",
    "        sess6=tf.Session()\n",
    "    print(sess6.run(covar))"
   ]
  },
  {
   "cell_type": "code",
   "execution_count": null,
   "metadata": {
    "collapsed": true
   },
   "outputs": [],
   "source": []
  }
 ],
 "metadata": {
  "kernelspec": {
   "display_name": "Python 3",
   "language": "python",
   "name": "python3"
  },
  "language_info": {
   "codemirror_mode": {
    "name": "ipython",
    "version": 3
   },
   "file_extension": ".py",
   "mimetype": "text/x-python",
   "name": "python",
   "nbconvert_exporter": "python",
   "pygments_lexer": "ipython3",
   "version": "3.6.1"
  }
 },
 "nbformat": 4,
 "nbformat_minor": 2
}
