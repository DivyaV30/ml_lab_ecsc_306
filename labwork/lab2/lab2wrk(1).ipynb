{
 "cells": [
  {
   "cell_type": "code",
   "execution_count": 34,
   "metadata": {},
   "outputs": [
    {
     "name": "stdout",
     "output_type": "stream",
     "text": [
      "Elements in array x\n",
      "1.8\n",
      "2.0\n",
      "3.1\n",
      "4.0\n",
      "5.0\n",
      "6.8\n",
      "Elements in array y\n",
      "1.2\n",
      "1.1\n",
      "3.4\n",
      "8.5\n",
      "4.0\n",
      "3.1\n"
     ]
    }
   ],
   "source": [
    "import tensorflow as tf\n",
    "\n",
    "x=tf.constant([1.8, 2.0, 3.1, 4.0, 5.0, 6.8])\n",
    "y=tf.constant([1.2, 1.1, 3.4, 8.5, 4, 3.1])\n",
    "\n",
    "print('Elements in array x')\n",
    "with tf.name_scope (\"ElementsOfArray_X\"):\n",
    "    with tf.Session() as sess:\n",
    "        for i in range(len(sess.run(x))):\n",
    "            output = sess.run(x[i])\n",
    "            print(output)\n",
    "    \n",
    "print('Elements in array y')\n",
    "with tf.name_scope (\"ElementsOfArray_Y\"):\n",
    "    with tf.Session() as sess:\n",
    "        for i in range(len(sess.run(y))):\n",
    "            output1 = sess.run(y[i])\n",
    "            print(output1)"
   ]
  },
  {
   "cell_type": "code",
   "execution_count": 35,
   "metadata": {},
   "outputs": [
    {
     "name": "stdout",
     "output_type": "stream",
     "text": [
      "Mean of x\n",
      "3.5\n",
      "Mean of y\n",
      "3.33333333333\n"
     ]
    }
   ],
   "source": [
    "sum1=tf.constant(0)\n",
    "\n",
    "with tf.name_scope(\"Mean_X\"):\n",
    "    with tf.Session() as sess:\n",
    "        for i in range(len(sess.run(x))):\n",
    "            output =sess.run(x[i])\n",
    "            sum1=tf.add(sum1,output, name=\"AddX\")\n",
    "        a=tf.divide(sum1,len(sess.run(x)), name=\"DivideByN\")\n",
    "        avgx=sess.run(a)\n",
    "    print('Mean of x')\n",
    "    print(avgx)\n",
    "\n",
    "sum1=tf.constant(0)\n",
    "with tf.name_scope(\"Mean_Y\"):\n",
    "    with tf.Session() as sess:\n",
    "        for i in range(len(sess.run(y))):\n",
    "            output =sess.run(y[i])\n",
    "            sum1=tf.add(sum1,output, name=\"AddY\")\n",
    "        a=tf.divide(sum1,len(sess.run(y)), name=\"DivideByN\")\n",
    "        avgy=sess.run(a)\n",
    "    print('Mean of y')\n",
    "    print(avgy)\n"
   ]
  },
  {
   "cell_type": "code",
   "execution_count": 36,
   "metadata": {},
   "outputs": [
    {
     "name": "stdout",
     "output_type": "stream",
     "text": [
      "Variance of x\n",
      "18.69\n"
     ]
    }
   ],
   "source": [
    "#Calculate variance for x\n",
    "var=tf.constant(0.0)\n",
    "with tf.name_scope(\"Calculate_Variance\"):\n",
    "    with tf.Session() as sess:\n",
    "        for i in range(len(sess.run(x))):\n",
    "            a=tf.subtract(sess.run(x[i]), avgx, name=\"Sub\")\n",
    "            b=tf.square(a, name=\"Squaring\")\n",
    "            var=tf.add(var,b, name=\"Add\")\n",
    "        vari=sess.run(var)\n",
    "print('Variance of x')\n",
    "print(vari)\n"
   ]
  },
  {
   "cell_type": "code",
   "execution_count": 37,
   "metadata": {},
   "outputs": [
    {
     "name": "stdout",
     "output_type": "stream",
     "text": [
      "Covariance of x,y\n",
      "9.76333\n"
     ]
    }
   ],
   "source": [
    "#Calculate covariance of x & y\n",
    "cov=tf.constant(0.0)\n",
    "with tf.name_scope(\"Calculate_Covariance\"):\n",
    "    with tf.Session() as sess:\n",
    "        for i in range(len(sess.run(x))):\n",
    "            a=tf.subtract(sess.run(x[i]),avgx, name=\"Subtract1\")\n",
    "            b=tf.subtract(sess.run(y[i]),avgy, name=\"Subtract2\")\n",
    "            c=tf.multiply(a,b,name=\"Multiply\")\n",
    "            cov=tf.add(cov,c, name=\"AddThem\")\n",
    "        covar=sess.run(cov)\n",
    "print('Covariance of x,y')\n",
    "print(covar)\n",
    "        "
   ]
  },
  {
   "cell_type": "code",
   "execution_count": 38,
   "metadata": {},
   "outputs": [
    {
     "name": "stdout",
     "output_type": "stream",
     "text": [
      "Value of c\n",
      "0.522383\n"
     ]
    }
   ],
   "source": [
    "#Calculate value of c\n",
    "\n",
    "with tf.name_scope(\"Calculate_c\"):\n",
    "    with tf.Session() as sess:\n",
    "        temp=tf.divide(cov,var)\n",
    "        const_c=sess.run(temp)\n",
    "        print('Value of c')\n",
    "print(const_c)\n"
   ]
  },
  {
   "cell_type": "code",
   "execution_count": 39,
   "metadata": {},
   "outputs": [
    {
     "name": "stdout",
     "output_type": "stream",
     "text": [
      "The value of m\n",
      "3.33333\n"
     ]
    }
   ],
   "source": [
    "#Calculate value of m \n",
    "with tf.name_scope(\"Calculate_slope\"):\n",
    "    c=tf.to_float(const_c)\n",
    "    d=tf.to_float(avgx)\n",
    "    e=tf.multiply(c,d)\n",
    "    f=tf.to_float(avgy)\n",
    "    slope=tf.subtract(f,e)\n",
    "    with tf.Session() as sess:\n",
    "        slope=sess.run(f)\n",
    "print('The value of m')\n",
    "print(slope)"
   ]
  },
  {
   "cell_type": "code",
   "execution_count": 40,
   "metadata": {},
   "outputs": [],
   "source": [
    "import tensorflow as tf\n",
    "import numpy\n",
    "import matplotlib.pyplot as plt"
   ]
  },
  {
   "cell_type": "code",
   "execution_count": 41,
   "metadata": {},
   "outputs": [
    {
     "name": "stdout",
     "output_type": "stream",
     "text": [
      "[6.5223823, 7.1890492, 10.855716, 13.855716, 17.189049, 23.189049]\n"
     ]
    }
   ],
   "source": [
    "with tf.Session() as sess:\n",
    "    x1=sess.run(x)\n",
    "    y1=sess.run(y)\n",
    "train_X = numpy.asarray(x1)\n",
    "train_Y = numpy.asarray(y1)\n",
    "\n",
    "\n",
    "ranX=tf.constant([1.8, 2.0, 3.1, 4.0, 5.0, 6.8])\n",
    "with tf.Session() as sess:\n",
    "    ranX1=sess.run(ranX)\n",
    "ranX2=numpy.asarray(ranX1)\n",
    "\n",
    "ranY=[0]*6\n",
    "    \n",
    "with tf.Session() as sess:\n",
    "        for i in range(len(sess.run(ranX))):\n",
    "            output = sess.run(ranX[i])\n",
    "            a=tf.multiply(output,slope)\n",
    "            b=tf.add(a,const_c)\n",
    "            ranY[i]=sess.run(b)\n",
    "print(ranY)\n",
    "            \n"
   ]
  },
  {
   "cell_type": "code",
   "execution_count": 33,
   "metadata": {},
   "outputs": [
    {
     "data": {
      "image/png": "[encoded data removed]",
      "text/plain": [
       "<matplotlib.figure.Figure at 0x7fd1dc13c908>"
      ]
     },
     "metadata": {},
     "output_type": "display_data"
    }
   ],
   "source": [
    "\n",
    "plt.plot(train_X, train_Y, 'ro', label='Original data')\n",
    "plt.plot(ranX2,ranY, label='fitted line')\n",
    "plt.legend()\n",
    "plt.show()"
   ]
  },
  {
   "cell_type": "code",
   "execution_count": 13,
   "metadata": {},
   "outputs": [
    {
     "name": "stdout",
     "output_type": "stream",
     "text": [
      "0\n"
     ]
    }
   ],
   "source": [
    "a = [0] * 6\n",
    "print(a[2])"
   ]
  },
  {
   "cell_type": "code",
   "execution_count": null,
   "metadata": {
    "collapsed": true
   },
   "outputs": [],
   "source": []
  }
 ],
 "metadata": {
  "kernelspec": {
   "display_name": "Python 3",
   "language": "python",
   "name": "python3"
  },
  "language_info": {
   "codemirror_mode": {
    "name": "ipython",
    "version": 3
   },
   "file_extension": ".py",
   "mimetype": "text/x-python",
   "name": "python",
   "nbconvert_exporter": "python",
   "pygments_lexer": "ipython3",
   "version": "3.6.1"
  }
 },
 "nbformat": 4,
 "nbformat_minor": 2
}
