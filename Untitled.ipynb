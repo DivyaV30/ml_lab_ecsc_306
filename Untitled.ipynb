{
 "cells": [
  {
   "cell_type": "code",
   "execution_count": 7,
   "metadata": {},
   "outputs": [
    {
     "name": "stdout",
     "output_type": "stream",
     "text": [
      "400\n"
     ]
    }
   ],
   "source": [
    "import tensorflow as tf\n",
    "a=tf.constant(10)\n",
    "b=tf.constant(30)\n",
    "\n",
    "with tf.name_scope(\"MyOperation\"):\n",
    "    c=tf.multiply(a,b,name=\"Mult1\")\n",
    "    d=tf.multiply(2,c,name=\"Mult_2\")\n",
    "    e=tf.square(a,name=\"Sqr_A\")\n",
    "    f=tf.square(b,name=\"Sqr_B\")\n",
    "\n",
    "g=tf.add(e,f,name=\"Add\")\n",
    "h=tf.subtract(g,d,name=\"Subtract\")\n",
    "\n",
    "with tf.Session() as sess:\n",
    "    writer = tf.summary.FileWriter(\"/tmp/tboard/output1_ar\", sess.graph)\n",
    "    print(sess.run(h))\n",
    "    writer.close()\n"
   ]
  },
  {
   "cell_type": "code",
   "execution_count": 9,
   "metadata": {},
   "outputs": [
    {
     "name": "stdout",
     "output_type": "stream",
     "text": [
      "855000\n"
     ]
    }
   ],
   "source": [
    "import tensorflow as tf\n",
    "a=tf.constant(70)\n",
    "b=tf.constant(80)\n",
    "y=tf.add(a,b)\n",
    "c=tf.square(a)\n",
    "d=tf.square(b)\n",
    "e=tf.add(c,d)\n",
    "f=tf.multiply(a,b)\n",
    "g=tf.subtract(e,f)\n",
    "\n",
    "\n",
    "res=tf.multiply(y,g)\n",
    "\n",
    "with tf.Session() as sess:\n",
    "    writer = tf.summary.FileWriter(\"/tmp/tboard/output1_a\", sess.graph)\n",
    "    print(sess.run(res))\n",
    "    writer.close()\n"
   ]
  },
  {
   "cell_type": "code",
   "execution_count": null,
   "metadata": {
    "collapsed": true
   },
   "outputs": [],
   "source": []
  }
 ],
 "metadata": {
  "kernelspec": {
   "display_name": "Python 3",
   "language": "python",
   "name": "python3"
  },
  "language_info": {
   "codemirror_mode": {
    "name": "ipython",
    "version": 3
   },
   "file_extension": ".py",
   "mimetype": "text/x-python",
   "name": "python",
   "nbconvert_exporter": "python",
   "pygments_lexer": "ipython3",
   "version": "3.6.1"
  }
 },
 "nbformat": 4,
 "nbformat_minor": 2
}
